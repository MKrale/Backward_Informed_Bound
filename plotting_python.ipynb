{
 "cells": [
  {
   "cell_type": "code",
   "execution_count": 25,
   "metadata": {},
   "outputs": [],
   "source": [
    "# Imports & stuff\n",
    "\n",
    "import pandas as pd\n",
    "import numpy as np\n",
    "import json\n",
    "\n",
    "\n",
    "\n",
    "\n",
    "\n",
    "# Constants\n",
    "time = 1800\n",
    "pres = []\n",
    "all_envs = [\"ABC\", \"Tiger\", \"RockSample5\", \"RockSample10\", \"K-out-of-N2\", \"K-out-of-N3\", \"FrozenLake4\", \"FrozenLake10\", \"Tag\"] # All envs\n",
    "Env_to_latex_name = {\n",
    "    \"ABC\" : \"\\\\custom\",\n",
    "    \"Tiger\":\"\\\\tiger\",\n",
    "    \"RockSample5\": \"\\\\rocksample (5)\",\n",
    "    \"RockSample10\": \"\\\\rocksample (10)\",\n",
    "    \"K-out-of-N2\":\"\\\\koutofn (2)\",\n",
    "    \"K-out-of-N3\":\"\\\\koutofn (3)\",\n",
    "    \"FrozenLake4\":\"\\\\lake (4)\",\n",
    "    \"FrozenLake10\":\"\\\\lake (10)\",\n",
    "    \"Tag\":\"\\\\tagenv\"\n",
    "}\n",
    "\n",
    "\n",
    "\n",
    "# all_envs = [\"ABC\", \"Tiger\", \"RockSample5\", \"FrozenLake4\"] #Testing envs\n",
    "pre = \"./Data/Sarsoptest_\"\n",
    "post = f\"_t{time}.json\"\n",
    "for env in all_envs:\n",
    "    pres.append(pre + env + \"_\" )\n",
    "\n",
    "\n"
   ]
  },
  {
   "cell_type": "code",
   "execution_count": 32,
   "metadata": {},
   "outputs": [
    {
     "name": "stdout",
     "output_type": "stream",
     "text": [
      "                               None                \\BIB               \\EBIB\n",
      "\\custom                       0.28s               2.99s               3.55s\n",
      "\\tiger                       16.55s               7.67s               5.20s\n",
      "\\rocksample (5)               0.46s               2.65s               3.10s\n",
      "\\rocksample (10)   - (25.19, 25.63)    - (25.19, 25.62)    - (25.19, 25.63)\n",
      "\\koutofn (2)       - (-8.42, -6.42)    - (-8.43, -6.91)    - (-8.43, -6.88)\n",
      "\\koutofn (3)      - (-13.03, -4.23)  - (-16.15, -10.20)  - (-16.12, -10.17)\n",
      "\\lake (4)                     0.50s               3.83s               6.16s\n",
      "\\lake (10)           - (0.52, 0.54)      - (0.52, 0.54)      - (0.52, 0.54)\n",
      "\\tagenv           - (-10.87, -6.39)   - (-10.92, -6.43)   - (-10.91, -6.11)\n",
      "\\begin{tabular}{l|ccc}\n",
      "\\toprule\n",
      " & None & \\BIB & \\EBIB \\\\\n",
      "\\midrule\n",
      "\\custom & 0.28s & 2.99s & 3.55s \\\\\n",
      "\\tiger & 16.55s & 7.67s & 5.20s \\\\\n",
      "\\rocksample (5) & 0.46s & 2.65s & 3.10s \\\\\n",
      "\\rocksample (10) & - (25.19, 25.63) & - (25.19, 25.62) & - (25.19, 25.63) \\\\\n",
      "\\koutofn (2) & - (-8.42, -6.42) & - (-8.43, -6.91) & - (-8.43, -6.88) \\\\\n",
      "\\koutofn (3) & - (-13.03, -4.23) & - (-16.15, -10.20) & - (-16.12, -10.17) \\\\\n",
      "\\lake (4) & 0.50s & 3.83s & 6.16s \\\\\n",
      "\\lake (10) & - (0.52, 0.54) & - (0.52, 0.54) & - (0.52, 0.54) \\\\\n",
      "\\tagenv & - (-10.87, -6.39) & - (-10.92, -6.43) & - (-10.91, -6.11) \\\\\n",
      "\\bottomrule\n",
      "\\end{tabular}\n",
      "\n"
     ]
    }
   ],
   "source": [
    "# Table of computation times\n",
    "\n",
    "def get_vars(data:dict):\n",
    "    if data[\"timeout\"]:\n",
    "        diff =  abs((data[\"final_ub\"] - data[\"final_lw\"] ) / data[\"final_lw\"])\n",
    "        # return f'- ({diff:.2f})'\n",
    "        return f'- ({data[\"final_lw\"]:.2f}, {data[\"final_ub\"]:.2f})'\n",
    "    else:\n",
    "        return f'{data[\"runtime\"]:.2f}s'\n",
    "\n",
    "\n",
    "# labels = [\"\\\\SARSOP\", \"\\\\BIBSARSOP\", \"\\\\EBIBSARSOP\"]\n",
    "labels = [\"None\", \"\\\\BIB\", \"\\\\EBIB\"]\n",
    "names, Sarsop_time, BibSarsop_time, EBibSarsop_time = [], [], [], []\n",
    "\n",
    "for pre in pres:\n",
    "    filename_Sarsop = pre + \"SARSOP\" + post\n",
    "    with open(filename_Sarsop) as file:\n",
    "        this_data = json.load(file)\n",
    "        # names.append(this_data[\"env_full\"])\n",
    "        names.append(Env_to_latex_name[this_data[\"env\"]])\n",
    "        Sarsop_time.append(get_vars(this_data))\n",
    "\n",
    "    filename_BibSarsop = pre + \"BIB-SARSOP\" + post\n",
    "    with open(filename_BibSarsop) as file:\n",
    "        this_data = json.load(file)\n",
    "        BibSarsop_time.append(get_vars(this_data))\n",
    "\n",
    "    filename_EBibSarsop = pre + \"EBIB-SARSOP\" + post\n",
    "    with open(filename_EBibSarsop) as file:\n",
    "        this_data = json.load(file)\n",
    "        EBibSarsop_time.append(get_vars(this_data))\n",
    "\n",
    "dataframe = pd.DataFrame([Sarsop_time, BibSarsop_time, EBibSarsop_time], index=labels, columns=names).transpose()\n",
    "\n",
    "print(dataframe)\n",
    "\n",
    "print(dataframe.to_latex(column_format=\"l|ccc\"))"
   ]
  },
  {
   "cell_type": "code",
   "execution_count": null,
   "metadata": {},
   "outputs": [],
   "source": [
    "\n",
    "\n",
    "\n"
   ]
  }
 ],
 "metadata": {
  "kernelspec": {
   "display_name": "Python 3",
   "language": "python",
   "name": "python3"
  },
  "language_info": {
   "codemirror_mode": {
    "name": "ipython",
    "version": 3
   },
   "file_extension": ".py",
   "mimetype": "text/x-python",
   "name": "python",
   "nbconvert_exporter": "python",
   "pygments_lexer": "ipython3",
   "version": "3.10.12"
  }
 },
 "nbformat": 4,
 "nbformat_minor": 2
}
