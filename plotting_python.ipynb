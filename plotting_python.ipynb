{
 "cells": [
  {
   "cell_type": "code",
   "execution_count": 4,
   "metadata": {},
   "outputs": [],
   "source": [
    "# Imports & stuff\n",
    "\n",
    "import pandas as pd\n",
    "import numpy as np\n",
    "import json\n",
    "\n",
    "\n",
    "\n",
    "\n",
    "\n",
    "# Constants\n",
    "time = 1800\n",
    "pres = []\n",
    "all_envs = [\"ABC\", \"Tiger\", \"RockSample5\", \"RockSample10\", \"K-out-of-N2\", \"K-out-of-N3\", \"FrozenLake4\", \"FrozenLake10\"] # All envs\n",
    "Env_to_latex_name = {\n",
    "    \"ABC\" : \"\\\\custom\",\n",
    "    \"Tiger\":\"\\\\tiger\",\n",
    "    \"RockSample5\": \"\\\\rocksample (5)\",\n",
    "    \"RockSample10\": \"\\\\rocksample (10)\",\n",
    "    \"K-out-of-N2\":\"\\\\koutofn (2)\",\n",
    "    \"K-out-of-N3\":\"\\\\koutofn (3)\",\n",
    "    \"FrozenLake4\":\"\\\\lake (4)\",\n",
    "    \"FrozenLake10\":\"\\\\lake (10)\"\n",
    "}\n",
    "\n",
    "\n",
    "\n",
    "# all_envs = [\"ABC\", \"Tiger\", \"RockSample5\", \"FrozenLake4\"] #Testing envs\n",
    "pre = \"./Data/Sarsoptest_\"\n",
    "post = f\"_t{time}.json\"\n",
    "for env in all_envs:\n",
    "    pres.append(pre + env + \"_\" )\n",
    "\n",
    "\n"
   ]
  },
  {
   "cell_type": "code",
   "execution_count": 9,
   "metadata": {},
   "outputs": [
    {
     "name": "stdout",
     "output_type": "stream",
     "text": [
      "                       None       \\BIB      \\EBIB\n",
      "ABCModel              0.28s      2.99s      3.55s\n",
      "Tiger                16.55s      7.67s      5.20s\n",
      "RockSample ()         0.46s      2.65s      3.10s\n",
      "RockSample (10)   TO (0.02)  TO (0.02)  TO (0.02)\n",
      "K-out-of-N (2)    TO (0.24)  TO (0.18)  TO (0.18)\n",
      "K-out-of-N (3)    TO (0.67)  TO (0.37)  TO (0.37)\n",
      "Frozen Lake (4)       0.50s      3.83s      6.16s\n",
      "Frozen Lake (10)  TO (0.03)  TO (0.02)  TO (0.03)\n",
      "\\begin{tabular}{l|ccc}\n",
      "\\toprule\n",
      " & None & \\BIB & \\EBIB \\\\\n",
      "\\midrule\n",
      "ABCModel & 0.28s & 2.99s & 3.55s \\\\\n",
      "Tiger & 16.55s & 7.67s & 5.20s \\\\\n",
      "RockSample () & 0.46s & 2.65s & 3.10s \\\\\n",
      "RockSample (10) & TO (0.02) & TO (0.02) & TO (0.02) \\\\\n",
      "K-out-of-N (2) & TO (0.24) & TO (0.18) & TO (0.18) \\\\\n",
      "K-out-of-N (3) & TO (0.67) & TO (0.37) & TO (0.37) \\\\\n",
      "Frozen Lake (4) & 0.50s & 3.83s & 6.16s \\\\\n",
      "Frozen Lake (10) & TO (0.03) & TO (0.02) & TO (0.03) \\\\\n",
      "\\bottomrule\n",
      "\\end{tabular}\n",
      "\n"
     ]
    }
   ],
   "source": [
    "# Table of computation times\n",
    "\n",
    "def get_vars(data:dict):\n",
    "    if data[\"timeout\"]:\n",
    "        diff =  abs((data[\"final_ub\"] - data[\"final_lw\"] ) / data[\"final_lw\"])\n",
    "        return f'TO ({diff:.2f})'\n",
    "        # return f'TO ({data[\"final_lw\"]:.2f}, {data[\"final_ub\"]:.2f})'\n",
    "    else:\n",
    "        return f'{data[\"runtime\"]:.2f}s'\n",
    "\n",
    "\n",
    "# labels = [\"\\\\SARSOP\", \"\\\\BIBSARSOP\", \"\\\\EBIBSARSOP\"]\n",
    "labels = [\"None\", \"\\\\BIB\", \"\\\\EBIB\"]\n",
    "names, Sarsop_time, BibSarsop_time, EBibSarsop_time = [], [], [], []\n",
    "\n",
    "for pre in pres:\n",
    "    filename_Sarsop = pre + \"SARSOP\" + post\n",
    "    with open(filename_Sarsop) as file:\n",
    "        this_data = json.load(file)\n",
    "        # names.append(this_data[\"env_full\"])\n",
    "        names.append(Env_to_latex_name[\"env\"])\n",
    "        Sarsop_time.append(get_vars(this_data))\n",
    "\n",
    "    filename_BibSarsop = pre + \"BIB-SARSOP\" + post\n",
    "    with open(filename_BibSarsop) as file:\n",
    "        this_data = json.load(file)\n",
    "        BibSarsop_time.append(get_vars(this_data))\n",
    "\n",
    "    filename_EBibSarsop = pre + \"EBIB-SARSOP\" + post\n",
    "    with open(filename_EBibSarsop) as file:\n",
    "        this_data = json.load(file)\n",
    "        EBibSarsop_time.append(get_vars(this_data))\n",
    "\n",
    "dataframe = pd.DataFrame([Sarsop_time, BibSarsop_time, EBibSarsop_time], index=labels, columns=names).transpose()\n",
    "\n",
    "print(dataframe)\n",
    "\n",
    "print(dataframe.to_latex(column_format=\"l|ccc\"))"
   ]
  },
  {
   "cell_type": "code",
   "execution_count": null,
   "metadata": {},
   "outputs": [],
   "source": [
    "\n",
    "\n",
    "\n"
   ]
  }
 ],
 "metadata": {
  "kernelspec": {
   "display_name": "Python 3",
   "language": "python",
   "name": "python3"
  },
  "language_info": {
   "codemirror_mode": {
    "name": "ipython",
    "version": 3
   },
   "file_extension": ".py",
   "mimetype": "text/x-python",
   "name": "python",
   "nbconvert_exporter": "python",
   "pygments_lexer": "ipython3",
   "version": "3.10.12"
  }
 },
 "nbformat": 4,
 "nbformat_minor": 2
}
