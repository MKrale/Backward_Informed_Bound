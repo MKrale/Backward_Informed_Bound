{
 "cells": [
  {
   "cell_type": "code",
   "execution_count": 29,
   "metadata": {},
   "outputs": [],
   "source": [
    "# Imports & stuff\n",
    "\n",
    "import pandas as pd\n",
    "import numpy as np\n",
    "import json\n",
    "\n",
    "\n",
    "\n",
    "\n",
    "\n",
    "# Constants\n",
    "time = 3000\n",
    "pres = []\n",
    "# all_envs = [\"ABC\", \"Tiger\", \"RockSample5\", \"RockSample10\", \"K-out-of-N2\", \"K-out-of-N3\", \"FrozenLake4\", \"FrozenLake10\"] # All envs\n",
    "all_envs = [\"ABC\", \"Tiger\", \"RockSample5\", \"FrozenLake4\"] #Testing envs\n",
    "pre = \"./Data/Sarsoptest_\"\n",
    "post = f\"_t{time}.json\"\n",
    "for env in all_envs:\n",
    "    pres.append(pre + env + \"_\" )\n",
    "\n",
    "\n"
   ]
  },
  {
   "cell_type": "code",
   "execution_count": 30,
   "metadata": {},
   "outputs": [
    {
     "name": "stdout",
     "output_type": "stream",
     "text": [
      "                 SARSOP SARSOP-BIB SARSOP-EBIB\n",
      "ABCModel          0.31s      2.00s       1.72s\n",
      "Tiger            15.54s      6.74s       5.26s\n",
      "RockSample ()     0.42s      2.60s       3.01s\n",
      "Frozen Lake (4)   1.17s      2.85s       2.64s\n",
      "\\begin{tabular}{l|ccc}\n",
      "\\toprule\n",
      " & SARSOP & SARSOP-BIB & SARSOP-EBIB \\\\\n",
      "\\midrule\n",
      "ABCModel & 0.31s & 2.00s & 1.72s \\\\\n",
      "Tiger & 15.54s & 6.74s & 5.26s \\\\\n",
      "RockSample () & 0.42s & 2.60s & 3.01s \\\\\n",
      "Frozen Lake (4) & 1.17s & 2.85s & 2.64s \\\\\n",
      "\\bottomrule\n",
      "\\end{tabular}\n",
      "\n"
     ]
    }
   ],
   "source": [
    "# Table of computation times\n",
    "\n",
    "def get_vars(data:dict):\n",
    "    if data[\"timeout\"]:\n",
    "        diff =  abs((data[\"final_ub\"] - data[\"final_lw\"] ) / data[\"final_lw\"])\n",
    "        return f'TO ({diff:.2f})'\n",
    "    else:\n",
    "        return f'{data[\"runtime\"]:.2f}s'\n",
    "\n",
    "\n",
    "labels = [\"SARSOP\", \"SARSOP-BIB\", \"SARSOP-EBIB\"]\n",
    "names, Sarsop_time, BibSarsop_time, EBibSarsop_time = [], [], [], []\n",
    "\n",
    "for pre in pres:\n",
    "    filename_Sarsop = pre + \"SARSOP\" + post\n",
    "    with open(filename_Sarsop) as file:\n",
    "        this_data = json.load(file)\n",
    "        names.append(this_data[\"env_full\"])\n",
    "        Sarsop_time.append(get_vars(this_data))\n",
    "\n",
    "    filename_BibSarsop = pre + \"BIB-SARSOP\" + post\n",
    "    with open(filename_BibSarsop) as file:\n",
    "        this_data = json.load(file)\n",
    "        BibSarsop_time.append(get_vars(this_data))\n",
    "\n",
    "    filename_EBibSarsop = pre + \"EBIB-SARSOP\" + post\n",
    "    with open(filename_EBibSarsop) as file:\n",
    "        this_data = json.load(file)\n",
    "        EBibSarsop_time.append(get_vars(this_data))\n",
    "\n",
    "dataframe = pd.DataFrame([Sarsop_time, BibSarsop_time, EBibSarsop_time], index=labels, columns=names).transpose()\n",
    "\n",
    "print(dataframe)\n",
    "\n",
    "print(dataframe.to_latex(column_format=\"l|ccc\"))"
   ]
  },
  {
   "cell_type": "code",
   "execution_count": null,
   "metadata": {},
   "outputs": [],
   "source": [
    "\n",
    "\n",
    "\n"
   ]
  }
 ],
 "metadata": {
  "kernelspec": {
   "display_name": "Python 3",
   "language": "python",
   "name": "python3"
  },
  "language_info": {
   "codemirror_mode": {
    "name": "ipython",
    "version": 3
   },
   "file_extension": ".py",
   "mimetype": "text/x-python",
   "name": "python",
   "nbconvert_exporter": "python",
   "pygments_lexer": "ipython3",
   "version": "3.10.12"
  }
 },
 "nbformat": 4,
 "nbformat_minor": 2
}
