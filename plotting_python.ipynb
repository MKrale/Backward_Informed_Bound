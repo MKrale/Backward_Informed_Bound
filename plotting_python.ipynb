{
 "cells": [
  {
   "cell_type": "code",
   "execution_count": 56,
   "metadata": {},
   "outputs": [],
   "source": [
    "# Imports & stuff\n",
    "\n",
    "import pandas as pd\n",
    "import numpy as np\n",
    "import json\n",
    "import matplotlib.pyplot as plt\n",
    "import matplotlib.colors as cls\n",
    "from cycler import cycler\n",
    "\n",
    "\n",
    "\n",
    "\n",
    "\n",
    "# Constants\n",
    "time = 3200\n",
    "pres = []\n",
    "# all_envs = [\"ABC\", \"Tiger\", \"RockSample5\", \"RockSample10\", \"K-out-of-N2\", \"K-out-of-N3\", \n",
    "#             \"FrozenLake4\", \"FrozenLake10\", \"Tag\", \"Hallway1\", \"Hallway2\", \"MiniHallway\", \"TigerGrid\"] # All envs\n",
    "Env_to_latex_name = {\n",
    "    \"ABC\" : \"\\\\custom\",\n",
    "    \"Tiger\":\"\\\\tiger\",\n",
    "    \"RockSample5\": \"\\\\rocksample (5)\",\n",
    "    \"RockSample10\": \"\\\\rocksample (10)\",\n",
    "    \"K-out-of-N2\":\"\\\\koutofn (2)\",\n",
    "    \"K-out-of-N3\":\"\\\\koutofn (3)\",\n",
    "    \"FrozenLake4\":\"\\\\lake (4)\",\n",
    "    \"FrozenLake10\":\"\\\\lake (10)\",\n",
    "    \"Tag\":\"\\\\tagenv\",\n",
    "    \"Hallway1\":\"\\\\hallway1\",\n",
    "    \"Hallway2\":\"\\\\hallway2\",\n",
    "    \"TigerGrid\":\"\\\\tigergrid\",\n",
    "    \"MiniHallway\":\"\\\\minihallway\"\n",
    "}\n",
    "\n",
    "\n",
    "\n",
    "all_envs = [\"ABC\", \"Tiger\", \"RockSample5\", \"FrozenLake4\"] #Testing envs\n",
    "# all_envs = [\"ABC\", \"Tiger\", \"RockSample5\", \"FrozenLake4\", \"FrozenLake10\", \"K-out-of-N3\"] #Testing envs\n",
    "pre = \"./Data/SarsopTest/Sarsoptest_\"\n",
    "post = f\"_t{time}.json\"\n",
    "for env in all_envs:\n",
    "    pres.append(pre + env + \"_\" )\n",
    "\n",
    "# solvers = [\"SARSOP\", \"BIB-SARSOP\", \"EBIB-SARSOP\"]\n",
    "solvers = [\"SARSOP\", \"BIB-SARSOP\", \"EBIB-SARSOP\"]\n",
    "# solvers = [\"SARSOP\", \"BIB-SARSOP\"]\n",
    "\n",
    "def get_data(env:str):\n",
    "    ts, ubs, lbs = [], [], []\n",
    "    solvernames, envname = [], \"\"\n",
    "    for s in solvers:\n",
    "        with open(pre+env+\"_\"+s+post) as file:\n",
    "            data = json.load(file)\n",
    "            ts.append(data[\"times\"])\n",
    "            ubs.append(data[\"ubs\"])\n",
    "            lbs.append(data[\"lbs\"])\n",
    "            solvernames.append(data[\"solver\"])\n",
    "            envname = data[\"env_full\"]\n",
    "\n",
    "    return ts, ubs, lbs, solvernames, envname\n",
    "\n",
    "\n",
    "\n"
   ]
  },
  {
   "cell_type": "code",
   "execution_count": 53,
   "metadata": {},
   "outputs": [
    {
     "name": "stdout",
     "output_type": "stream",
     "text": [
      "                  None   \\BIB  \\EBIB\n",
      "\\custom          0.49s  2.03s  3.34s\n",
      "\\tiger           0.50s  2.11s  3.29s\n",
      "\\rocksample (5)  0.63s  2.60s  4.55s\n",
      "\\lake (4)        2.14s  2.19s  3.36s\n",
      "\\begin{tabular}{l|ccc}\n",
      "\\toprule\n",
      " & None & \\BIB & \\EBIB \\\\\n",
      "\\midrule\n",
      "\\custom & 0.49s & 2.03s & 3.34s \\\\\n",
      "\\tiger & 0.50s & 2.11s & 3.29s \\\\\n",
      "\\rocksample (5) & 0.63s & 2.60s & 4.55s \\\\\n",
      "\\lake (4) & 2.14s & 2.19s & 3.36s \\\\\n",
      "\\bottomrule\n",
      "\\end{tabular}\n",
      "\n"
     ]
    }
   ],
   "source": [
    "# Table of computation times\n",
    "\n",
    "def get_vars(data:dict):\n",
    "    if data[\"timeout\"]:\n",
    "        diff =  abs((data[\"final_ub\"] - data[\"final_lw\"] ) / data[\"final_lw\"])\n",
    "        # return f'- ({diff:.2f})'\n",
    "        return f'- ({data[\"final_lw\"]:.2f}, {data[\"final_ub\"]:.2f})'\n",
    "    else:\n",
    "        return f'{data[\"runtime\"]:.2f}s'\n",
    "\n",
    "\n",
    "# labels = [\"\\\\SARSOP\", \"\\\\BIBSARSOP\", \"\\\\EBIBSARSOP\"]\n",
    "labels = [\"None\", \"\\\\BIB\", \"\\\\EBIB\"]\n",
    "names = []\n",
    "Sarsop_time, BibSarsop_time, EBibSarsop_time = [], [], []\n",
    "Sarsop_its, BibSarsop_its, EBibSarsop_its = [], [], []\n",
    "\n",
    "for pre in pres:\n",
    "    filename_Sarsop = pre + \"SARSOP\" + post\n",
    "    # print(pre)\n",
    "    with open(filename_Sarsop) as file:\n",
    "        this_data = json.load(file)\n",
    "        # names.append(this_data[\"env_full\"])\n",
    "        names.append(Env_to_latex_name[this_data[\"env\"]])\n",
    "        Sarsop_time.append(get_vars(this_data))\n",
    "        Sarsop_its.append(len(this_data[\"times\"]))\n",
    "        # print(\"Sarsop: \", len(this_data[\"times\"]))\n",
    "\n",
    "    filename_BibSarsop = pre + \"BIB-SARSOP\" + post\n",
    "    with open(filename_BibSarsop) as file:\n",
    "        this_data = json.load(file)\n",
    "        BibSarsop_time.append(get_vars(this_data))\n",
    "        BibSarsop_its.append(len(this_data[\"times\"]))\n",
    "        # print(\"BIBSarsop: \", len(this_data[\"times\"]))\n",
    "\n",
    "    filename_EBibSarsop = pre + \"EBIB-SARSOP\" + post\n",
    "    with open(filename_EBibSarsop) as file:\n",
    "        this_data = json.load(file)\n",
    "        EBibSarsop_time.append(get_vars(this_data))\n",
    "        EBibSarsop_its.append(len(this_data[\"times\"]))\n",
    "        # print(\"BIBSarsop: \", len(this_data[\"times\"]))\n",
    "\n",
    "dataframe = pd.DataFrame([Sarsop_time, BibSarsop_time, EBibSarsop_time], index=labels, columns=names).transpose()\n",
    "\n",
    "# dataframe = pd.DataFrame([Sarsop_its, BibSarsop_its, EBibSarsop_its], index=labels, columns=names).transpose()\n",
    "\n",
    "\n",
    "print(dataframe)\n",
    "\n",
    "print(dataframe.to_latex(column_format=\"l|ccc\"))"
   ]
  },
  {
   "cell_type": "markdown",
   "metadata": {},
   "source": [
    "### Plotting"
   ]
  },
  {
   "cell_type": "code",
   "execution_count": 58,
   "metadata": {},
   "outputs": [
    {
     "data": {
      "image/png": "[encoded data removed]",
      "text/plain": [
       "<Figure size 640x480 with 1 Axes>"
      ]
     },
     "metadata": {},
     "output_type": "display_data"
    }
   ],
   "source": [
    "# TigerGrid\n",
    "\n",
    "ts, ubs, lbs, solvernames, envname = get_data(\"FrozenLake4\")\n",
    "\n",
    "colours =  ['#E24A33', '#348ABD',  '#FBC15E', '#8EBA42', '#FFB5B8']\n",
    "\n",
    "# colours = [(226, 74, 51), (52, 138, 189), (152, 142, 213)]\n",
    "\n",
    "for (i,label) in enumerate(solvernames):\n",
    "    plt.plot(ts[i],ubs[i], label=label, color=colours[i], linestyle=\"-\")\n",
    "    plt.plot(ts[i],lbs[i], label=None, color=colours[i], linestyle=\"--\")\n",
    "plt.xlabel(\"Time (s)\")\n",
    "plt.ylabel(\"Expected Value\")\n",
    "# plt.ylim(-3, -1.6)\n",
    "plt.legend()\n",
    "plt.show()"
   ]
  }
 ],
 "metadata": {
  "kernelspec": {
   "display_name": "Python 3",
   "language": "python",
   "name": "python3"
  },
  "language_info": {
   "codemirror_mode": {
    "name": "ipython",
    "version": 3
   },
   "file_extension": ".py",
   "mimetype": "text/x-python",
   "name": "python",
   "nbconvert_exporter": "python",
   "pygments_lexer": "ipython3",
   "version": "3.10.12"
  }
 },
 "nbformat": 4,
 "nbformat_minor": 2
}
