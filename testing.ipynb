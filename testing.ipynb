{
 "cells": [
  {
   "cell_type": "code",
   "execution_count": 15,
   "metadata": {},
   "outputs": [
    {
     "ename": "BoundsError",
     "evalue": "BoundsError: attempt to access 5-element Vector{VariableRef} at index [7]",
     "output_type": "error",
     "traceback": [
      "BoundsError: attempt to access 5-element Vector{VariableRef} at index [7]\n",
      "\n",
      "Stacktrace:\n",
      " [1] getindex(A::Vector{VariableRef}, i1::Int64)\n",
      "   @ Base ./essentials.jl:13\n",
      " [2] macro expansion\n",
      "   @ ~/.julia/packages/MutableArithmetics/SXYDN/src/rewrite_generic.jl:268 [inlined]\n",
      " [3] macro expansion\n",
      "   @ ~/.julia/packages/MutableArithmetics/SXYDN/src/rewrite.jl:340 [inlined]\n",
      " [4] macro expansion\n",
      "   @ ~/.julia/packages/JuMP/7rBNn/src/macros.jl:257 [inlined]\n",
      " [5] macro expansion\n",
      "   @ ~/.julia/packages/JuMP/7rBNn/src/macros/@constraint.jl:171 [inlined]\n",
      " [6] macro expansion\n",
      "   @ ~/.julia/packages/JuMP/7rBNn/src/macros.jl:393 [inlined]\n",
      " [7] top-level scope\n",
      "   @ ~/GitRepos/Backward_Informed_Bound/jl_notebook_cell_df34fa98e69747e1a8f8a730347b8e2f_W0sZmlsZQ==.jl:21"
     ]
    }
   ],
   "source": [
    "using JuMP, HiGHS\n",
    "\n",
    "Qs = [2,2,2,4,4]\n",
    "b = [0.1, 0.4, 0.5, 0.0]\n",
    "Bs=[1. 0. 0. 0. 0. \n",
    "    0. 1. 0. 0. 0.\n",
    "    0. 0. 1. 0. 0.\n",
    "    0. 0. 0. 1. 0.\n",
    "    0. 0. 0. 0. 1.]\n",
    "\n",
    "model = Model(HiGHS.Optimizer)\n",
    "@variable(model, x[1:5] in Semicontinuous(0,1))\n",
    "for s=1:5\n",
    "    Idx, Ps = [], []\n",
    "    for (bpi, bp) in enumerate(Bs)\n",
    "        if bp[s] > 0\n",
    "            push!(Idx, bpi)\n",
    "            push!(Ps, bp[s])\n",
    "        end\n",
    "    end\n",
    "    @constraint(model, sum(x[Idx[i]] * Ps[i] for i in 1:length(Idx)) == b[s])\n",
    "end\n",
    "\n",
    "@objective(model, Max, sum(Qs .* x))\n",
    "print(model)\n",
    "\n"
   ]
  },
  {
   "cell_type": "code",
   "execution_count": 1,
   "metadata": {},
   "outputs": [
    {
     "ename": "ErrorException",
     "evalue": "syntax: extra token \"as\" after end of expression",
     "output_type": "error",
     "traceback": [
      "syntax: extra token \"as\" after end of expression\n",
      "\n",
      "Stacktrace:\n",
      " [1] include_string(::Module, ::String, ::String) at ./loading.jl:1002\n",
      " [2] #invokelatest#1 at ./essentials.jl:686 [inlined]\n",
      " [3] invokelatest at ./essentials.jl:685 [inlined]\n",
      " [4] (::getfield(VSCodeServer, Symbol(\"##215#216\")){VSCodeServer.NotebookRunCellArguments,String})() at /home/merlijn/.vscode/extensions/julialang.language-julia-1.79.2/scripts/packages/VSCodeServer/src/serve_notebook.jl:19\n",
      " [5] withpath(::getfield(VSCodeServer, Symbol(\"##215#216\")){VSCodeServer.NotebookRunCellArguments,String}, ::String) at /home/merlijn/.vscode/extensions/julialang.language-julia-1.79.2/scripts/packages/VSCodeServer/src/repl.jl:276\n",
      " [6] notebook_runcell_request(::VSCodeServer.JSONRPC.JSONRPCEndpoint{Base.PipeEndpoint,Base.PipeEndpoint}, ::VSCodeServer.NotebookRunCellArguments) at /home/merlijn/.vscode/extensions/julialang.language-julia-1.79.2/scripts/packages/VSCodeServer/src/serve_notebook.jl:13\n",
      " [7] dispatch_msg(::VSCodeServer.JSONRPC.JSONRPCEndpoint{Base.PipeEndpoint,Base.PipeEndpoint}, ::VSCodeServer.JSONRPC.MsgDispatcher, ::Dict{String,Any}) at /home/merlijn/.vscode/extensions/julialang.language-julia-1.79.2/scripts/packages/JSONRPC/src/typed.jl:67\n",
      " [8] #serve_notebook#217(::String, ::Function, ::String, ::Base.CoreLogging.SimpleLogger) at /home/merlijn/.vscode/extensions/julialang.language-julia-1.79.2/scripts/packages/VSCodeServer/src/serve_notebook.jl:139\n",
      " [9] (::getfield(VSCodeServer, Symbol(\"#kw##serve_notebook\")))(::NamedTuple{(:crashreporting_pipename,),Tuple{String}}, ::typeof(VSCodeServer.serve_notebook), ::String, ::Base.CoreLogging.SimpleLogger) at ./none:0\n",
      " [10] top-level scope at /home/merlijn/.vscode/extensions/julialang.language-julia-1.79.2/scripts/notebook/notebook.jl:35"
     ]
    }
   ],
   "source": [
    "import numpy as np\n",
    "import math\n",
    "from scipy.interpolate import LinearNDInterpolator\n",
    "\n",
    "gamma = 0.9\n",
    "ev = 1\n",
    "Rmax = 1\n",
    "\n",
    "h0 = math.log( ((1-gamma)*ev) / (2*Rmax) , gamma)\n",
    "print(h0)\n",
    "eb0 = ((1-gamma) * ev) / (2*gamma*Rmax*h0)\n",
    "print(eb0, eb0 / (gamma**10), eb0 / (gamma**15), eb0 / (gamma**20))\n",
    "\n",
    "ebo_other = ((1-gamma)**2 * ev) / (2*gamma*Rmax)\n",
    "print(ebo_other)\n",
    "\n"
   ]
  }
 ],
 "metadata": {
  "kernelspec": {
   "display_name": "Julia 1.10.4",
   "language": "julia",
   "name": "julia-1.10"
  },
  "language_info": {
   "file_extension": ".jl",
   "mimetype": "application/julia",
   "name": "julia",
   "version": "1.10.4"
  }
 },
 "nbformat": 4,
 "nbformat_minor": 2
}
