{
 "cells": [
  {
   "cell_type": "code",
   "execution_count": 2,
   "metadata": {},
   "outputs": [
    {
     "name": "stdout",
     "output_type": "stream",
     "text": [
      "Set parameter Username\n",
      "Academic license - for non-commercial use only - expires 2024-12-03\n"
     ]
    },
    {
     "ename": "LoadError",
     "evalue": "LoadError: MethodError: Cannot `convert` an object of type Expr to an object of type Symbol\nThe function `convert` exists, but no method is defined for this combination of argument types.\n\nClosest candidates are:\n  Symbol(::Any...)\n   @ Base strings/basic.jl:229\n  convert(::Type{T}, !Matched::T) where T\n   @ Base Base.jl:126\n\nin expression starting at /home/merlijn/GitRepos/Backward_Informed_Bound/jl_notebook_cell_df34fa98e69747e1a8f8a730347b8e2f_W0sZmlsZQ==.jl:8",
     "output_type": "error",
     "traceback": [
      "LoadError: MethodError: Cannot `convert` an object of type Expr to an object of type Symbol\n",
      "The function `convert` exists, but no method is defined for this combination of argument types.\n",
      "\n",
      "Closest candidates are:\n",
      "  Symbol(::Any...)\n",
      "   @ Base strings/basic.jl:229\n",
      "  convert(::Type{T}, !Matched::T) where T\n",
      "   @ Base Base.jl:126\n",
      "\n",
      "in expression starting at /home/merlijn/GitRepos/Backward_Informed_Bound/jl_notebook_cell_df34fa98e69747e1a8f8a730347b8e2f_W0sZmlsZQ==.jl:8\n",
      "\n",
      "Stacktrace:\n",
      "  [1] setindex!(h::Dict{Symbol, Any}, v0::Expr, key0::Expr)\n",
      "    @ Base ./dict.jl:346\n",
      "  [2] parse_macro_arguments(error_fn::JuMP.Containers.var\"#error_fn#98\"{String}, args::Tuple{Symbol, Expr}; valid_kwargs::Nothing, num_positional_args::Nothing)\n",
      "    @ JuMP.Containers ~/.julia/packages/JuMP/6RAQ9/src/Containers/macro.jl:58\n",
      "  [3] parse_macro_arguments(error_fn::Function, args::Tuple{Symbol, Expr})\n",
      "    @ JuMP.Containers ~/.julia/packages/JuMP/6RAQ9/src/Containers/macro.jl:41\n",
      "  [4] var\"@constraint\"(__source__::LineNumberNode, __module__::Module, input_args::Vararg{Any})\n",
      "    @ JuMP ~/.julia/packages/JuMP/6RAQ9/src/macros/@constraint.jl:103\n",
      "  [5] eval\n",
      "    @ ./boot.jl:430 [inlined]\n",
      "  [6] include_string(mapexpr::typeof(REPL.softscope), mod::Module, code::String, filename::String)\n",
      "    @ Base ./loading.jl:2628\n",
      "  [7] #invokelatest#2\n",
      "    @ ./essentials.jl:1054 [inlined]\n",
      "  [8] invokelatest\n",
      "    @ ./essentials.jl:1051 [inlined]\n",
      "  [9] (::VSCodeServer.var\"#217#218\"{VSCodeServer.NotebookRunCellArguments, String})()\n",
      "    @ VSCodeServer ~/.vscode/extensions/julialang.language-julia-1.127.2/scripts/packages/VSCodeServer/src/serve_notebook.jl:24\n",
      " [10] withpath(f::VSCodeServer.var\"#217#218\"{VSCodeServer.NotebookRunCellArguments, String}, path::String)\n",
      "    @ VSCodeServer ~/.vscode/extensions/julialang.language-julia-1.127.2/scripts/packages/VSCodeServer/src/repl.jl:276\n",
      " [11] notebook_runcell_request(conn::VSCodeServer.JSONRPC.JSONRPCEndpoint{Base.PipeEndpoint, Base.PipeEndpoint}, params::VSCodeServer.NotebookRunCellArguments)\n",
      "    @ VSCodeServer ~/.vscode/extensions/julialang.language-julia-1.127.2/scripts/packages/VSCodeServer/src/serve_notebook.jl:13\n",
      " [12] dispatch_msg(x::VSCodeServer.JSONRPC.JSONRPCEndpoint{Base.PipeEndpoint, Base.PipeEndpoint}, dispatcher::VSCodeServer.JSONRPC.MsgDispatcher, msg::Dict{String, Any})\n",
      "    @ VSCodeServer.JSONRPC ~/.vscode/extensions/julialang.language-julia-1.127.2/scripts/packages/JSONRPC/src/typed.jl:67\n",
      " [13] serve_notebook(pipename::String, debugger_pipename::String, outputchannel_logger::Base.CoreLogging.SimpleLogger; error_handler::var\"#5#10\"{String})\n",
      "    @ VSCodeServer ~/.vscode/extensions/julialang.language-julia-1.127.2/scripts/packages/VSCodeServer/src/serve_notebook.jl:147\n",
      " [14] top-level scope\n",
      "    @ ~/.vscode/extensions/julialang.language-julia-1.127.2/scripts/notebook/notebook.jl:35"
     ]
    }
   ],
   "source": [
    "using JuMP, Gurobi\n",
    "\n",
    "model = Model(Gurobi.Optimizer)\n",
    "\n",
    "@variable(model, 0.0 <= p1 <= 0.0)\n",
    "@variable(model, 0.0 <= p2 <= 0.0)\n",
    "@variable(model, 0.0 <= p3 <= 0.0)\n",
    "@constraint(model, p1+p2+p3=1)\n",
    "@constraint(model, p2 >= 0.75 - p1/4 - 5*p3/4 )\n",
    "@objective(model, Min, p2)\n",
    "optimize!(model)\n",
    "\n"
   ]
  }
 ],
 "metadata": {
  "kernelspec": {
   "display_name": "Julia 1.11.2",
   "language": "julia",
   "name": "julia-1.11"
  },
  "language_info": {
   "file_extension": ".jl",
   "mimetype": "application/julia",
   "name": "julia",
   "version": "1.11.2"
  }
 },
 "nbformat": 4,
 "nbformat_minor": 2
}
